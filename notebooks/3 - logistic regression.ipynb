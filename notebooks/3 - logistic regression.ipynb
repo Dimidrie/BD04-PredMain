{
 "cells": [
  {
   "cell_type": "markdown",
   "metadata": {},
   "source": [
    "# Logistic Regression\n",
    "In dit notebook wordt het Logistic Regression model toegepast op de dataset."
   ]
  },
  {
   "cell_type": "code",
   "execution_count": 1,
   "metadata": {},
   "outputs": [],
   "source": [
    "import pickle\n",
    "\n",
    "import pandas as pd\n",
    "\n",
    "from os.path import exists\n",
    "\n",
    "from sklearn.linear_model import LogisticRegression\n",
    "from sklearn.model_selection import train_test_split\n",
    "from sklearn.metrics import accuracy_score, ConfusionMatrixDisplay, confusion_matrix\n",
    "from sklearn.preprocessing import  StandardScaler, LabelEncoder\n",
    "\n",
    "MODELNAME = \"logistic_regression\"\n",
    "\n",
    "EXISTING_MODEL = exists(f'../models/{MODELNAME}.pkl')\n",
    "\n"
   ]
  },
  {
   "cell_type": "code",
   "execution_count": 2,
   "metadata": {},
   "outputs": [],
   "source": [
    "data = pd.read_csv(\"../data/processed/sample.csv\").convert_dtypes()"
   ]
  },
  {
   "cell_type": "markdown",
   "metadata": {},
   "source": [
    "## Preprocessing\n"
   ]
  },
  {
   "cell_type": "code",
   "execution_count": 3,
   "metadata": {},
   "outputs": [],
   "source": [
    "# Verwijder NaN values\n",
    "data = data.dropna()\n",
    "\n",
    "# Aan de hand van deze kolommen wordt voorspeld of de schijf failed is (het 'x'-as)\n",
    "predictor_columns = [\n",
    "    \"smart_5_raw\",\n",
    "    \"smart_9_raw\",\n",
    "    \"smart_187_raw\",\n",
    "    \"smart_188_raw\",\n",
    "    \"smart_194_raw\",\n",
    "    \"smart_197_raw\",\n",
    "    \"smart_198_raw\"\n",
    "]\n",
    "x = data[predictor_columns]\n",
    "\n",
    "# Deze feature wordt voorspeld (het 'y'-as)\n",
    "target_column = \"failure\"\n",
    "y = data[target_column]\n",
    "\n",
    "# Standaardiseren van x kolommen\n",
    "x_scaler = StandardScaler()\n",
    "x = x_scaler.fit_transform(x)\n",
    "\n",
    "# Label encoden van de y kolom\n",
    "# dit zorgt ervoor dat unieke waardes worden vervangen\n",
    "# door een label\n",
    "y_scaler = LabelEncoder()\n",
    "y = y_scaler.fit_transform(y)"
   ]
  },
  {
   "cell_type": "code",
   "execution_count": 4,
   "metadata": {},
   "outputs": [],
   "source": [
    "x_train, x_test, y_train, y_test = train_test_split(x, y, test_size=.2, random_state=69)"
   ]
  },
  {
   "cell_type": "code",
   "execution_count": 5,
   "metadata": {},
   "outputs": [],
   "source": [
    "if EXISTING_MODEL:\n",
    "    model = pickle.load(open(f'../models/{MODELNAME}.pkl', 'rb'))\n",
    "else:\n",
    "    model = LogisticRegression()\n",
    "    model = model.fit(x_train, y_train)"
   ]
  },
  {
   "cell_type": "code",
   "execution_count": 6,
   "metadata": {},
   "outputs": [],
   "source": [
    "prediction = model.predict(x_test)"
   ]
  },
  {
   "cell_type": "code",
   "execution_count": 7,
   "metadata": {},
   "outputs": [
    {
     "data": {
      "text/plain": [
       "0.9999686395638263"
      ]
     },
     "execution_count": 7,
     "metadata": {},
     "output_type": "execute_result"
    }
   ],
   "source": [
    "accuracy_score(y_test, prediction)"
   ]
  },
  {
   "cell_type": "code",
   "execution_count": 8,
   "metadata": {},
   "outputs": [
    {
     "data": {
      "text/plain": [
       "<sklearn.metrics._plot.confusion_matrix.ConfusionMatrixDisplay at 0x7f72e5a45c10>"
      ]
     },
     "execution_count": 8,
     "metadata": {},
     "output_type": "execute_result"
    },
    {
     "data": {
      "image/png": "[encoded data removed]",
      "text/plain": [
       "<Figure size 432x288 with 2 Axes>"
      ]
     },
     "metadata": {
      "needs_background": "light"
     },
     "output_type": "display_data"
    }
   ],
   "source": [
    "# Omdat we de y-as gelabeld hebben (ipv de originele waardes)\n",
    "# geven we die originele waardes om het correcte label in de grafiek te krijgen\n",
    "# Dit doen we middels `inverse_transoform()` op de y_scaler\n",
    "\n",
    "cm = confusion_matrix(y_test, prediction, labels=y_scaler.inverse_transform(model.classes_))\n",
    "\n",
    "ConfusionMatrixDisplay(\n",
    "    confusion_matrix=cm,\n",
    "    display_labels=y_scaler.inverse_transform(model.classes_)\n",
    ").from_predictions(y_test, prediction)"
   ]
  },
  {
   "cell_type": "code",
   "execution_count": 9,
   "metadata": {},
   "outputs": [],
   "source": [
    "if not EXISTING_MODEL:\n",
    "    pickle.dump(model, open('../models/logistic_regression.pkl', 'wb'))"
   ]
  }
 ],
 "metadata": {
  "interpreter": {
   "hash": "21f15dc884f843a13b19566683b4a66825333f3b9f1ce60e3f59c4d8e126c959"
  },
  "kernelspec": {
   "display_name": "Python 3.9.7 64-bit ('venv': venv)",
   "language": "python",
   "name": "python3"
  },
  "language_info": {
   "codemirror_mode": {
    "name": "ipython",
    "version": 3
   },
   "file_extension": ".py",
   "mimetype": "text/x-python",
   "name": "python",
   "nbconvert_exporter": "python",
   "pygments_lexer": "ipython3",
   "version": "3.9.7"
  },
  "orig_nbformat": 4
 },
 "nbformat": 4,
 "nbformat_minor": 2
}
